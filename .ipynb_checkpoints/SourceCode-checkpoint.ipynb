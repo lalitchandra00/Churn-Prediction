{
 "cells": [
  {
   "cell_type": "code",
   "execution_count": 44,
   "id": "8be519bf-bd15-4d77-a8e9-f3502bb6599d",
   "metadata": {},
   "outputs": [],
   "source": [
    "import pandas as pd\n",
    "import numpy as np\n",
    "import matplotlib.pyplot as plt\n",
    "import seaborn as sns"
   ]
  },
  {
   "cell_type": "code",
   "execution_count": 45,
   "id": "4a425c08-7b7b-4093-b9d4-6966f45fa4fc",
   "metadata": {},
   "outputs": [],
   "source": [
    "df = pd.read_csv(\"Churn_Modelling.csv\")"
   ]
  },
  {
   "cell_type": "code",
   "execution_count": 46,
   "id": "ac85b2ee-0438-4d8e-b7ad-06c422df6778",
   "metadata": {},
   "outputs": [
    {
     "data": {
      "text/html": [
       "<div>\n",
       "<style scoped>\n",
       "    .dataframe tbody tr th:only-of-type {\n",
       "        vertical-align: middle;\n",
       "    }\n",
       "\n",
       "    .dataframe tbody tr th {\n",
       "        vertical-align: top;\n",
       "    }\n",
       "\n",
       "    .dataframe thead th {\n",
       "        text-align: right;\n",
       "    }\n",
       "</style>\n",
       "<table border=\"1\" class=\"dataframe\">\n",
       "  <thead>\n",
       "    <tr style=\"text-align: right;\">\n",
       "      <th></th>\n",
       "      <th>CustomerId</th>\n",
       "      <th>Name</th>\n",
       "      <th>HasCrCard</th>\n",
       "      <th>CreditScore</th>\n",
       "      <th>Geography</th>\n",
       "      <th>Gender</th>\n",
       "      <th>Age</th>\n",
       "      <th>Tenure</th>\n",
       "      <th>Balance</th>\n",
       "      <th>PrdtcCnts</th>\n",
       "      <th>ActivedMmbr</th>\n",
       "      <th>EstimatedSalary</th>\n",
       "      <th>Exited</th>\n",
       "    </tr>\n",
       "  </thead>\n",
       "  <tbody>\n",
       "    <tr>\n",
       "      <th>0</th>\n",
       "      <td>15634602</td>\n",
       "      <td>Hargrave</td>\n",
       "      <td>1</td>\n",
       "      <td>619</td>\n",
       "      <td>France</td>\n",
       "      <td>Female</td>\n",
       "      <td>42</td>\n",
       "      <td>2</td>\n",
       "      <td>0.00</td>\n",
       "      <td>1</td>\n",
       "      <td>1</td>\n",
       "      <td>101348.88</td>\n",
       "      <td>1</td>\n",
       "    </tr>\n",
       "    <tr>\n",
       "      <th>1</th>\n",
       "      <td>15647311</td>\n",
       "      <td>Hill</td>\n",
       "      <td>0</td>\n",
       "      <td>608</td>\n",
       "      <td>Spain</td>\n",
       "      <td>Female</td>\n",
       "      <td>41</td>\n",
       "      <td>1</td>\n",
       "      <td>83807.86</td>\n",
       "      <td>1</td>\n",
       "      <td>1</td>\n",
       "      <td>112542.58</td>\n",
       "      <td>0</td>\n",
       "    </tr>\n",
       "    <tr>\n",
       "      <th>2</th>\n",
       "      <td>15619304</td>\n",
       "      <td>Onio</td>\n",
       "      <td>1</td>\n",
       "      <td>502</td>\n",
       "      <td>France</td>\n",
       "      <td>Female</td>\n",
       "      <td>42</td>\n",
       "      <td>8</td>\n",
       "      <td>159660.80</td>\n",
       "      <td>3</td>\n",
       "      <td>0</td>\n",
       "      <td>113931.57</td>\n",
       "      <td>1</td>\n",
       "    </tr>\n",
       "    <tr>\n",
       "      <th>3</th>\n",
       "      <td>15701354</td>\n",
       "      <td>Boni</td>\n",
       "      <td>0</td>\n",
       "      <td>699</td>\n",
       "      <td>France</td>\n",
       "      <td>Female</td>\n",
       "      <td>39</td>\n",
       "      <td>1</td>\n",
       "      <td>0.00</td>\n",
       "      <td>2</td>\n",
       "      <td>0</td>\n",
       "      <td>93826.63</td>\n",
       "      <td>0</td>\n",
       "    </tr>\n",
       "    <tr>\n",
       "      <th>4</th>\n",
       "      <td>15737888</td>\n",
       "      <td>Mitchell</td>\n",
       "      <td>1</td>\n",
       "      <td>850</td>\n",
       "      <td>Spain</td>\n",
       "      <td>Female</td>\n",
       "      <td>43</td>\n",
       "      <td>2</td>\n",
       "      <td>125510.82</td>\n",
       "      <td>1</td>\n",
       "      <td>1</td>\n",
       "      <td>79084.10</td>\n",
       "      <td>0</td>\n",
       "    </tr>\n",
       "  </tbody>\n",
       "</table>\n",
       "</div>"
      ],
      "text/plain": [
       "   CustomerId      Name  HasCrCard  CreditScore Geography  Gender  Age  \\\n",
       "0    15634602  Hargrave          1          619    France  Female   42   \n",
       "1    15647311      Hill          0          608     Spain  Female   41   \n",
       "2    15619304      Onio          1          502    France  Female   42   \n",
       "3    15701354      Boni          0          699    France  Female   39   \n",
       "4    15737888  Mitchell          1          850     Spain  Female   43   \n",
       "\n",
       "   Tenure    Balance  PrdtcCnts  ActivedMmbr  EstimatedSalary  Exited  \n",
       "0       2       0.00          1            1        101348.88       1  \n",
       "1       1   83807.86          1            1        112542.58       0  \n",
       "2       8  159660.80          3            0        113931.57       1  \n",
       "3       1       0.00          2            0         93826.63       0  \n",
       "4       2  125510.82          1            1         79084.10       0  "
      ]
     },
     "execution_count": 46,
     "metadata": {},
     "output_type": "execute_result"
    }
   ],
   "source": [
    "df.head()"
   ]
  },
  {
   "cell_type": "code",
   "execution_count": 47,
   "id": "bda0546a-30aa-4e2d-bab3-e30a1196c40d",
   "metadata": {},
   "outputs": [
    {
     "data": {
      "text/plain": [
       "CustomerId         0\n",
       "Name               0\n",
       "HasCrCard          0\n",
       "CreditScore        0\n",
       "Geography          0\n",
       "Gender             0\n",
       "Age                0\n",
       "Tenure             0\n",
       "Balance            0\n",
       "PrdtcCnts          0\n",
       "ActivedMmbr        0\n",
       "EstimatedSalary    0\n",
       "Exited             0\n",
       "dtype: int64"
      ]
     },
     "execution_count": 47,
     "metadata": {},
     "output_type": "execute_result"
    }
   ],
   "source": [
    "df.isnull().sum()"
   ]
  },
  {
   "cell_type": "code",
   "execution_count": 48,
   "id": "e1aabd3f-38d5-4ec9-a99b-a4bd695da2eb",
   "metadata": {},
   "outputs": [],
   "source": [
    "from sklearn.preprocessing import LabelEncoder\n",
    "le = LabelEncoder()\n",
    "df[\"Geography\"] = le.fit_transform(df[\"Geography\"])\n",
    "df[\"Gender\"] = le.fit_transform(df[\"Gender\"])"
   ]
  },
  {
   "cell_type": "code",
   "execution_count": 49,
   "id": "e5214c2e-3883-4b50-b935-44c73a70214c",
   "metadata": {},
   "outputs": [],
   "source": [
    "input_data = df.iloc[:,2:12]"
   ]
  },
  {
   "cell_type": "code",
   "execution_count": 50,
   "id": "ab4aff3b-307b-44d4-97cc-3653be04b018",
   "metadata": {},
   "outputs": [],
   "source": [
    "output_data = df.iloc[:,-1]"
   ]
  },
  {
   "cell_type": "code",
   "execution_count": 51,
   "id": "bc0d5a1b-f700-45c5-9934-ab7f0734061d",
   "metadata": {},
   "outputs": [
    {
     "data": {
      "text/plain": [
       "0    1\n",
       "1    0\n",
       "Name: Exited, dtype: int64"
      ]
     },
     "execution_count": 51,
     "metadata": {},
     "output_type": "execute_result"
    }
   ],
   "source": [
    "output_data.head(2)"
   ]
  },
  {
   "cell_type": "code",
   "execution_count": 52,
   "id": "46a446a7-80dc-4244-ad77-5e8c0f31dbac",
   "metadata": {},
   "outputs": [],
   "source": [
    "from sklearn.preprocessing import StandardScaler"
   ]
  },
  {
   "cell_type": "code",
   "execution_count": 53,
   "id": "597befea-4229-4ab2-beeb-edcc8abf2ffe",
   "metadata": {},
   "outputs": [],
   "source": [
    "ss = StandardScaler()"
   ]
  },
  {
   "cell_type": "code",
   "execution_count": 54,
   "id": "9521dbda-1818-49c5-ad10-d6e006b4f123",
   "metadata": {},
   "outputs": [
    {
     "data": {
      "text/plain": [
       "array([[ 0.64609167, -0.32622142, -0.90188624, ..., -0.91158349,\n",
       "         0.97024255,  0.02188649],\n",
       "       [-1.54776799, -0.44003595,  1.51506738, ..., -0.91158349,\n",
       "         0.97024255,  0.21653375],\n",
       "       [ 0.64609167, -1.53679418, -0.90188624, ...,  2.52705662,\n",
       "        -1.03067011,  0.2406869 ],\n",
       "       ...,\n",
       "       [-1.54776799,  0.60498839, -0.90188624, ..., -0.91158349,\n",
       "         0.97024255, -1.00864308],\n",
       "       [ 0.64609167,  1.25683526,  0.30659057, ...,  0.80773656,\n",
       "        -1.03067011, -0.12523071],\n",
       "       [ 0.64609167,  1.46377078, -0.90188624, ..., -0.91158349,\n",
       "        -1.03067011, -1.07636976]])"
      ]
     },
     "execution_count": 54,
     "metadata": {},
     "output_type": "execute_result"
    }
   ],
   "source": [
    "ss.fit_transform(input_data)"
   ]
  },
  {
   "cell_type": "code",
   "execution_count": null,
   "id": "d0501683-3ad0-4a1b-8362-dc9e6fb56d9c",
   "metadata": {},
   "outputs": [],
   "source": []
  },
  {
   "cell_type": "code",
   "execution_count": null,
   "id": "b61d43c7-2681-43e2-bc36-46d2a05f150a",
   "metadata": {},
   "outputs": [],
   "source": []
  },
  {
   "cell_type": "code",
   "execution_count": null,
   "id": "c3ffc4ba-b58a-4f35-9e27-814dec4d66ee",
   "metadata": {},
   "outputs": [],
   "source": []
  },
  {
   "cell_type": "code",
   "execution_count": null,
   "id": "354f47a3-a8a3-44cd-a31f-e1aef99bcb8d",
   "metadata": {},
   "outputs": [],
   "source": []
  },
  {
   "cell_type": "code",
   "execution_count": null,
   "id": "d502c979-5f11-43d7-a182-8e512a5d8a0e",
   "metadata": {},
   "outputs": [],
   "source": []
  },
  {
   "cell_type": "code",
   "execution_count": null,
   "id": "e32c96c2-80e9-4e48-9560-a201367a4f29",
   "metadata": {},
   "outputs": [],
   "source": []
  },
  {
   "cell_type": "code",
   "execution_count": null,
   "id": "be0318b4-4572-48bf-9930-1792ac5cccc2",
   "metadata": {},
   "outputs": [],
   "source": []
  }
 ],
 "metadata": {
  "kernelspec": {
   "display_name": "Python 3 (ipykernel)",
   "language": "python",
   "name": "python3"
  },
  "language_info": {
   "codemirror_mode": {
    "name": "ipython",
    "version": 3
   },
   "file_extension": ".py",
   "mimetype": "text/x-python",
   "name": "python",
   "nbconvert_exporter": "python",
   "pygments_lexer": "ipython3",
   "version": "3.13.0"
  }
 },
 "nbformat": 4,
 "nbformat_minor": 5
}
